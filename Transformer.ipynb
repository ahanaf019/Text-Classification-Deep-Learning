{
 "cells": [
  {
   "cell_type": "code",
   "execution_count": 1,
   "metadata": {},
   "outputs": [],
   "source": [
    "import os\n",
    "os.environ['TF_CPP_MIN_LOG_LEVEL'] = '3'\n",
    "\n",
    "import tensorflow as tf\n",
    "from tensorflow import keras\n",
    "import numpy as np\n",
    "import seaborn as sns\n"
   ]
  },
  {
   "cell_type": "code",
   "execution_count": 2,
   "metadata": {},
   "outputs": [
    {
     "name": "stdout",
     "output_type": "stream",
     "text": [
      "Found 25000 files belonging to 2 classes.\n",
      "Using 20000 files for training.\n",
      "Using 5000 files for validation.\n",
      "Found 25000 files belonging to 2 classes.\n"
     ]
    }
   ],
   "source": [
    "train_ds, val_ds = keras.utils.text_dataset_from_directory(\n",
    "    './aclImdb/train/',\n",
    "    validation_split= 0.2,\n",
    "    subset='both',\n",
    "    seed=225,\n",
    ")\n",
    "\n",
    "test_ds = keras.utils.text_dataset_from_directory(\n",
    "    './aclImdb/test/',\n",
    "    seed=225,\n",
    ")"
   ]
  },
  {
   "cell_type": "code",
   "execution_count": 9,
   "metadata": {},
   "outputs": [],
   "source": [
    "max_tokens = 20000\n",
    "max_length = 600\n",
    "\n",
    "text_vectorizer = keras.layers.TextVectorization(\n",
    "    max_tokens=max_tokens,\n",
    "    output_mode='int',\n",
    "    output_sequence_length=max_length,\n",
    ")\n",
    "\n",
    "text_only_train_ds = train_ds.map(lambda x, y: x)\n",
    "\n",
    "text_vectorizer.adapt(text_only_train_ds)"
   ]
  },
  {
   "cell_type": "code",
   "execution_count": 10,
   "metadata": {},
   "outputs": [],
   "source": [
    "int_train_ds = train_ds.map(lambda x, y: (text_vectorizer(x), y))\n",
    "int_val_ds = val_ds.map(lambda x, y: (text_vectorizer(x), y))\n",
    "int_test_ds = test_ds.map(lambda x, y: (text_vectorizer(x), y))"
   ]
  },
  {
   "cell_type": "code",
   "execution_count": 11,
   "metadata": {},
   "outputs": [],
   "source": [
    "class TransformerEncoder(keras.layers.Layer):\n",
    "    def __init__(self, embed_dim, dense_dim, num_heads, **kwargs):\n",
    "        super().__init__(**kwargs)\n",
    "        self.embed_dim = embed_dim\n",
    "        self.dense_dim = dense_dim\n",
    "        self.num_heads = num_heads\n",
    "        \n",
    "        self.attention = keras.layers.MultiHeadAttention(\n",
    "            num_heads=num_heads,\n",
    "            key_dim=embed_dim,\n",
    "        )\n",
    "        \n",
    "        self.dense_proj = keras.Sequential([\n",
    "            keras.layers.Dense(dense_dim, activation='relu'),\n",
    "            keras.layers.Dense(embed_dim),\n",
    "        ], name='dense-projection')\n",
    "        \n",
    "        self.layernorm1 = keras.layers.LayerNormalization()\n",
    "        self.layernorm2 = keras.layers.LayerNormalization()\n",
    "        \n",
    "    \n",
    "    def call(self, inputs, mask=None):\n",
    "        if mask is not None:\n",
    "            mask = mask[:, tf.newaxis, :]\n",
    "        attention_output = self.attention(inputs, inputs, attention_mask=mask)\n",
    "        \n",
    "        proj_input = self.layernorm1(inputs + attention_output)\n",
    "        proj_output = self.dense_proj(proj_input)\n",
    "        \n",
    "        return self.layernorm2(proj_input + proj_output)\n",
    "    \n",
    "    def get_config(self):\n",
    "        config = super().get_config()\n",
    "        \n",
    "        config.update({\n",
    "            'embed_dim': self.embed_dim,\n",
    "            'dense_dim': self.dense_dim,\n",
    "            'num_heads': self.num_heads,\n",
    "        })\n",
    "        return config"
   ]
  },
  {
   "cell_type": "code",
   "execution_count": 12,
   "metadata": {},
   "outputs": [],
   "source": [
    "class PositionalEmbedding(keras.layers.Layer):\n",
    "    def __init__(self, sequence_length, input_dim, output_dim, **kwargs):\n",
    "        super().__init__(**kwargs)\n",
    "        self.sequence_length = sequence_length\n",
    "        self.input_dim = input_dim\n",
    "        self.output_dim = output_dim\n",
    "        \n",
    "        self.token_embedding = keras.layers.Embedding(\n",
    "            input_dim=input_dim, output_dim=output_dim\n",
    "        )\n",
    "        \n",
    "        self.positional_embedding = keras.layers.Embedding(\n",
    "            input_dim=sequence_length, output_dim=output_dim\n",
    "        )\n",
    "    \n",
    "    def call(self, inputs,):\n",
    "        length = tf.shape(inputs)[-1]\n",
    "        positions = tf.range(start=0, limit=length, delta=1)\n",
    "        \n",
    "        embeded_tokens = self.token_embedding(inputs)\n",
    "        embeded_positions = self.positional_embedding(positions)\n",
    "        \n",
    "        return embeded_tokens + embeded_positions\n",
    "    \n",
    "    def compute_mask(self, inputs, mask=None):\n",
    "        return tf.math.not_equal(inputs, 0)\n",
    "    \n",
    "    def get_config(self):\n",
    "        config = super().get_config()\n",
    "        \n",
    "        config.update({\n",
    "            'sequence_length' : self.sequence_length, \n",
    "            'input_dim' : self.input_dim, \n",
    "            'output_dim' : self.output_dim,\n",
    "        })\n",
    "        return config"
   ]
  },
  {
   "cell_type": "code",
   "execution_count": 13,
   "metadata": {},
   "outputs": [],
   "source": [
    "vocab_size = max_tokens\n",
    "sequence_length = max_length\n",
    "embed_dim = 256\n",
    "num_heads = 2\n",
    "dense_dim = 12"
   ]
  },
  {
   "cell_type": "code",
   "execution_count": 15,
   "metadata": {},
   "outputs": [
    {
     "name": "stdout",
     "output_type": "stream",
     "text": [
      "Model: \"model\"\n",
      "_________________________________________________________________\n",
      " Layer (type)                Output Shape              Param #   \n",
      "=================================================================\n",
      " input_3 (InputLayer)        [(None, None)]            0         \n",
      "                                                                 \n",
      " positional_embedding_1 (Pos  (None, None, 256)        5273600   \n",
      " itionalEmbedding)                                               \n",
      "                                                                 \n",
      " transformer_encoder_1 (Tran  (None, None, 256)        533516    \n",
      " sformerEncoder)                                                 \n",
      "                                                                 \n",
      " global_max_pooling1d (Globa  (None, 256)              0         \n",
      " lMaxPooling1D)                                                  \n",
      "                                                                 \n",
      " dropout (Dropout)           (None, 256)               0         \n",
      "                                                                 \n",
      " dense_4 (Dense)             (None, 1)                 257       \n",
      "                                                                 \n",
      "=================================================================\n",
      "Total params: 5,807,373\n",
      "Trainable params: 5,807,373\n",
      "Non-trainable params: 0\n",
      "_________________________________________________________________\n"
     ]
    }
   ],
   "source": [
    "inputs = keras.Input(shape=(None,), dtype='int64')\n",
    "\n",
    "x = PositionalEmbedding(sequence_length=sequence_length, input_dim=vocab_size, output_dim=embed_dim,)(inputs)\n",
    "x = TransformerEncoder(embed_dim=embed_dim, dense_dim=dense_dim, num_heads=num_heads)(x)\n",
    "x = keras.layers.GlobalMaxPooling1D()(x)\n",
    "x = keras.layers.Dropout(0.4)(x)\n",
    "\n",
    "outputs = keras.layers.Dense(1, activation='sigmoid')(x)\n",
    "\n",
    "model = keras.Model(inputs=inputs, outputs=outputs)\n",
    "model.summary(expand_nested=True)"
   ]
  },
  {
   "cell_type": "code",
   "execution_count": 16,
   "metadata": {},
   "outputs": [],
   "source": [
    "model.compile(\n",
    "    optimizer=keras.optimizers.RMSprop(learning_rate=0.001),\n",
    "    loss='binary_crossentropy',\n",
    "    metrics=['accuracy'],\n",
    ")"
   ]
  },
  {
   "cell_type": "code",
   "execution_count": 17,
   "metadata": {},
   "outputs": [
    {
     "name": "stdout",
     "output_type": "stream",
     "text": [
      "Epoch 1/10\n",
      "625/625 [==============================] - 94s 144ms/step - loss: 0.5227 - accuracy: 0.7512 - val_loss: 0.3185 - val_accuracy: 0.8612 - lr: 0.0010\n",
      "Epoch 2/10\n",
      "625/625 [==============================] - 65s 104ms/step - loss: 0.3010 - accuracy: 0.8716 - val_loss: 0.2797 - val_accuracy: 0.8792 - lr: 0.0010\n",
      "Epoch 3/10\n",
      "625/625 [==============================] - 56s 89ms/step - loss: 0.2317 - accuracy: 0.9078 - val_loss: 0.2843 - val_accuracy: 0.8834 - lr: 0.0010\n",
      "Epoch 4/10\n",
      "625/625 [==============================] - 56s 89ms/step - loss: 0.1911 - accuracy: 0.9257 - val_loss: 0.2978 - val_accuracy: 0.8782 - lr: 0.0010\n",
      "Epoch 5/10\n",
      "625/625 [==============================] - 56s 89ms/step - loss: 0.1613 - accuracy: 0.9397 - val_loss: 0.3268 - val_accuracy: 0.8830 - lr: 0.0010\n",
      "Epoch 6/10\n",
      "625/625 [==============================] - 54s 86ms/step - loss: 0.1351 - accuracy: 0.9492 - val_loss: 0.4143 - val_accuracy: 0.8834 - lr: 0.0010\n",
      "Epoch 7/10\n",
      "625/625 [==============================] - 52s 84ms/step - loss: 0.1142 - accuracy: 0.9567 - val_loss: 0.3425 - val_accuracy: 0.8896 - lr: 0.0010\n",
      "Epoch 8/10\n",
      "625/625 [==============================] - 53s 86ms/step - loss: 0.0955 - accuracy: 0.9645 - val_loss: 0.3788 - val_accuracy: 0.8880 - lr: 0.0010\n",
      "Epoch 9/10\n",
      "625/625 [==============================] - 54s 87ms/step - loss: 0.0772 - accuracy: 0.9718 - val_loss: 0.4790 - val_accuracy: 0.8844 - lr: 0.0010\n",
      "Epoch 10/10\n",
      "625/625 [==============================] - 55s 89ms/step - loss: 0.0604 - accuracy: 0.9779 - val_loss: 0.5287 - val_accuracy: 0.8850 - lr: 0.0010\n"
     ]
    }
   ],
   "source": [
    "callbacks = [\n",
    "    keras.callbacks.ModelCheckpoint('checkpoints/transformer.h5', save_weights_only=True),\n",
    "    keras.callbacks.ReduceLROnPlateau(factor=0.5)\n",
    "]\n",
    "\n",
    "history = model.fit(int_train_ds, validation_data=int_val_ds, batch_size=128, epochs=10, callbacks=callbacks)\n"
   ]
  },
  {
   "cell_type": "code",
   "execution_count": 18,
   "metadata": {},
   "outputs": [
    {
     "data": {
      "text/plain": [
       "<AxesSubplot: >"
      ]
     },
     "execution_count": 18,
     "metadata": {},
     "output_type": "execute_result"
    },
    {
     "data": {
      "image/png": "[encoded data removed]",
      "text/plain": [
       "<Figure size 640x480 with 1 Axes>"
      ]
     },
     "metadata": {},
     "output_type": "display_data"
    }
   ],
   "source": [
    "sns.lineplot(data={'loss': history.history['loss'], 'val_loss': history.history['val_loss']})"
   ]
  },
  {
   "cell_type": "code",
   "execution_count": 19,
   "metadata": {},
   "outputs": [
    {
     "data": {
      "text/plain": [
       "<AxesSubplot: >"
      ]
     },
     "execution_count": 19,
     "metadata": {},
     "output_type": "execute_result"
    },
    {
     "data": {
      "image/png": "[encoded data removed]",
      "text/plain": [
       "<Figure size 640x480 with 1 Axes>"
      ]
     },
     "metadata": {},
     "output_type": "display_data"
    }
   ],
   "source": [
    "sns.lineplot(data={'accuracy': history.history['accuracy'], 'val_accuracy': history.history['val_accuracy']})"
   ]
  },
  {
   "cell_type": "code",
   "execution_count": 21,
   "metadata": {},
   "outputs": [],
   "source": [
    "model.load_weights('checkpoints/transformer.h5')"
   ]
  },
  {
   "cell_type": "code",
   "execution_count": 22,
   "metadata": {},
   "outputs": [
    {
     "name": "stdout",
     "output_type": "stream",
     "text": [
      "782/782 [==============================] - 26s 33ms/step - loss: 0.6299 - accuracy: 0.8652\n"
     ]
    },
    {
     "data": {
      "text/plain": [
       "[0.6299138069152832, 0.8651599884033203]"
      ]
     },
     "execution_count": 22,
     "metadata": {},
     "output_type": "execute_result"
    }
   ],
   "source": [
    "model.evaluate(int_test_ds)"
   ]
  },
  {
   "cell_type": "code",
   "execution_count": null,
   "metadata": {},
   "outputs": [],
   "source": []
  }
 ],
 "metadata": {
  "kernelspec": {
   "display_name": "Tensorflow 2.11 Env",
   "language": "python",
   "name": "tf_env"
  },
  "language_info": {
   "codemirror_mode": {
    "name": "ipython",
    "version": 3
   },
   "file_extension": ".py",
   "mimetype": "text/x-python",
   "name": "python",
   "nbconvert_exporter": "python",
   "pygments_lexer": "ipython3",
   "version": "3.8.10"
  },
  "orig_nbformat": 4
 },
 "nbformat": 4,
 "nbformat_minor": 2
}
