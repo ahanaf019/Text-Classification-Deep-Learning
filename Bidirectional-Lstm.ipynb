{
 "cells": [
  {
   "cell_type": "code",
   "execution_count": 1,
   "metadata": {},
   "outputs": [],
   "source": [
    "import os\n",
    "os.environ['TF_CPP_MIN_LOG_LEVEL'] = '3'\n",
    "\n",
    "import tensorflow as tf\n",
    "from tensorflow import keras\n",
    "import numpy as np"
   ]
  },
  {
   "cell_type": "code",
   "execution_count": 2,
   "metadata": {},
   "outputs": [
    {
     "name": "stdout",
     "output_type": "stream",
     "text": [
      "Found 25000 files belonging to 2 classes.\n",
      "Using 20000 files for training.\n",
      "Using 5000 files for validation.\n",
      "Found 25000 files belonging to 2 classes.\n"
     ]
    }
   ],
   "source": [
    "train_ds, val_ds = keras.utils.text_dataset_from_directory(\n",
    "    './aclImdb/train/',\n",
    "    validation_split= 0.2,\n",
    "    subset='both',\n",
    "    seed=225,\n",
    ")\n",
    "\n",
    "test_ds = keras.utils.text_dataset_from_directory(\n",
    "    './aclImdb/test/',\n",
    "    seed=225,\n",
    ")"
   ]
  },
  {
   "cell_type": "code",
   "execution_count": 3,
   "metadata": {},
   "outputs": [
    {
     "name": "stdout",
     "output_type": "stream",
     "text": [
      "WARNING:tensorflow:From /home/ahanaf/Desktop/Tensorflow/tf_env/lib/python3.8/site-packages/tensorflow/python/autograph/pyct/static_analysis/liveness.py:83: Analyzer.lamba_check (from tensorflow.python.autograph.pyct.static_analysis.liveness) is deprecated and will be removed after 2023-09-23.\n",
      "Instructions for updating:\n",
      "Lambda fuctions will be no more assumed to be used in the statement where they are used, or at least in the same block. https://github.com/tensorflow/tensorflow/issues/56089\n"
     ]
    }
   ],
   "source": [
    "max_tokens = 25000\n",
    "max_length = 600\n",
    "\n",
    "text_vectorizer = keras.layers.TextVectorization(\n",
    "    max_tokens=max_tokens,\n",
    "    output_mode='int',\n",
    "    output_sequence_length=max_length,\n",
    ")\n",
    "\n",
    "text_only_train_ds = train_ds.map(lambda x, y: x)\n",
    "\n",
    "text_vectorizer.adapt(text_only_train_ds)"
   ]
  },
  {
   "cell_type": "code",
   "execution_count": 4,
   "metadata": {},
   "outputs": [],
   "source": [
    "int_train_ds = train_ds.map(lambda x, y: (text_vectorizer(x), y), num_parallel_calls=tf.data.AUTOTUNE)\n",
    "int_val_ds = val_ds.map(lambda x, y: (text_vectorizer(x), y), num_parallel_calls=tf.data.AUTOTUNE)\n",
    "int_test_ds = test_ds.map(lambda x, y: (text_vectorizer(x), y), num_parallel_calls=tf.data.AUTOTUNE)"
   ]
  },
  {
   "cell_type": "code",
   "execution_count": 5,
   "metadata": {},
   "outputs": [
    {
     "name": "stdout",
     "output_type": "stream",
     "text": [
      "Model: \"model\"\n",
      "_________________________________________________________________\n",
      " Layer (type)                Output Shape              Param #   \n",
      "=================================================================\n",
      " input_1 (InputLayer)        [(None, None)]            0         \n",
      "                                                                 \n",
      " embedding (Embedding)       (None, None, 256)         6400000   \n",
      "                                                                 \n",
      " bidirectional (Bidirectiona  (None, None, 64)         73984     \n",
      " l)                                                              \n",
      "                                                                 \n",
      " bidirectional_1 (Bidirectio  (None, 64)               24832     \n",
      " nal)                                                            \n",
      "                                                                 \n",
      " dropout (Dropout)           (None, 64)                0         \n",
      "                                                                 \n",
      " dense (Dense)               (None, 1)                 65        \n",
      "                                                                 \n",
      "=================================================================\n",
      "Total params: 6,498,881\n",
      "Trainable params: 6,498,881\n",
      "Non-trainable params: 0\n",
      "_________________________________________________________________\n"
     ]
    }
   ],
   "source": [
    "inputs = keras.Input(shape=(None,), dtype='int64')\n",
    "\n",
    "embeded = keras.layers.Embedding(input_dim=max_tokens, output_dim=256)(inputs)\n",
    "\n",
    "x = keras.layers.Bidirectional(keras.layers.LSTM(32, return_sequences=True))(embeded)\n",
    "x = keras.layers.Bidirectional(keras.layers.LSTM(32))(x)\n",
    "x = keras.layers.Dropout(0.5)(x)\n",
    "\n",
    "outputs = keras.layers.Dense(1, activation='sigmoid')(x)\n",
    "\n",
    "model = keras.Model(inputs, outputs)\n",
    "model.compile(\n",
    "    optimizer='rmsprop',\n",
    "    loss='binary_crossentropy',\n",
    "    metrics=['accuracy'],\n",
    ")\n",
    "\n",
    "model.summary()"
   ]
  },
  {
   "cell_type": "code",
   "execution_count": 7,
   "metadata": {},
   "outputs": [
    {
     "name": "stdout",
     "output_type": "stream",
     "text": [
      "Epoch 1/10\n",
      "625/625 [==============================] - 101s 150ms/step - loss: 0.5209 - accuracy: 0.7456 - val_loss: 0.5766 - val_accuracy: 0.7966\n",
      "Epoch 2/10\n",
      "625/625 [==============================] - 64s 103ms/step - loss: 0.3661 - accuracy: 0.8608 - val_loss: 0.3485 - val_accuracy: 0.8570\n",
      "Epoch 3/10\n",
      "625/625 [==============================] - 51s 81ms/step - loss: 0.2842 - accuracy: 0.8950 - val_loss: 0.3172 - val_accuracy: 0.8834\n",
      "Epoch 4/10\n",
      "625/625 [==============================] - 48s 77ms/step - loss: 0.2405 - accuracy: 0.9147 - val_loss: 0.3223 - val_accuracy: 0.8684\n",
      "Epoch 5/10\n",
      "625/625 [==============================] - 47s 75ms/step - loss: 0.2003 - accuracy: 0.9302 - val_loss: 0.3522 - val_accuracy: 0.8788\n",
      "Epoch 6/10\n",
      "625/625 [==============================] - 45s 73ms/step - loss: 0.1710 - accuracy: 0.9416 - val_loss: 0.5572 - val_accuracy: 0.8328\n",
      "Epoch 7/10\n",
      "625/625 [==============================] - 44s 71ms/step - loss: 0.1454 - accuracy: 0.9505 - val_loss: 0.3677 - val_accuracy: 0.8714\n",
      "Epoch 8/10\n",
      "625/625 [==============================] - 45s 71ms/step - loss: 0.1217 - accuracy: 0.9607 - val_loss: 0.4321 - val_accuracy: 0.8678\n",
      "Epoch 9/10\n",
      "625/625 [==============================] - 44s 70ms/step - loss: 0.1123 - accuracy: 0.9650 - val_loss: 0.4431 - val_accuracy: 0.8690\n",
      "Epoch 10/10\n",
      "625/625 [==============================] - 43s 68ms/step - loss: 0.0908 - accuracy: 0.9732 - val_loss: 0.4146 - val_accuracy: 0.8738\n"
     ]
    },
    {
     "data": {
      "text/plain": [
       "<keras.callbacks.History at 0x7f1445450df0>"
      ]
     },
     "execution_count": 7,
     "metadata": {},
     "output_type": "execute_result"
    }
   ],
   "source": [
    "model.fit(int_train_ds, validation_data=int_val_ds, batch_size=64, epochs=10, callbacks=[keras.callbacks.ModelCheckpoint('checkpoints/bilstm.h5', save_weights_only=True)])\n"
   ]
  },
  {
   "cell_type": "code",
   "execution_count": 6,
   "metadata": {},
   "outputs": [
    {
     "name": "stdout",
     "output_type": "stream",
     "text": [
      "Epoch 1/10\n",
      "625/625 [==============================] - 143s 212ms/step - loss: 0.5059 - accuracy: 0.7556 - val_loss: 0.3417 - val_accuracy: 0.8630\n",
      "Epoch 2/10\n",
      "625/625 [==============================] - 102s 163ms/step - loss: 0.3321 - accuracy: 0.8743 - val_loss: 0.3866 - val_accuracy: 0.8598\n",
      "Epoch 3/10\n",
      "625/625 [==============================] - 91s 145ms/step - loss: 0.2641 - accuracy: 0.9063 - val_loss: 0.4132 - val_accuracy: 0.8524\n",
      "Epoch 4/10\n",
      "625/625 [==============================] - 87s 139ms/step - loss: 0.2117 - accuracy: 0.9257 - val_loss: 0.4294 - val_accuracy: 0.8448\n",
      "Epoch 5/10\n",
      "625/625 [==============================] - 86s 138ms/step - loss: 0.1683 - accuracy: 0.9422 - val_loss: 0.4247 - val_accuracy: 0.8754\n",
      "Epoch 6/10\n",
      "625/625 [==============================] - 84s 134ms/step - loss: 0.1430 - accuracy: 0.9538 - val_loss: 0.5524 - val_accuracy: 0.8460\n",
      "Epoch 7/10\n",
      "625/625 [==============================] - 82s 132ms/step - loss: 0.1125 - accuracy: 0.9656 - val_loss: 0.4644 - val_accuracy: 0.8644\n",
      "Epoch 8/10\n",
      "625/625 [==============================] - 84s 135ms/step - loss: 0.0919 - accuracy: 0.9711 - val_loss: 0.5498 - val_accuracy: 0.8752\n",
      "Epoch 9/10\n",
      "625/625 [==============================] - 83s 132ms/step - loss: 0.0799 - accuracy: 0.9771 - val_loss: 0.5169 - val_accuracy: 0.8564\n",
      "Epoch 10/10\n",
      "625/625 [==============================] - 83s 133ms/step - loss: 0.0607 - accuracy: 0.9827 - val_loss: 0.5670 - val_accuracy: 0.8670\n"
     ]
    },
    {
     "data": {
      "text/plain": [
       "<keras.callbacks.History at 0x7f9c255a6670>"
      ]
     },
     "execution_count": 6,
     "metadata": {},
     "output_type": "execute_result"
    }
   ],
   "source": [
    "model.fit(int_train_ds, validation_data=int_val_ds, batch_size=64, epochs=10, callbacks=[keras.callbacks.ModelCheckpoint('checkpoints/2-layer-bilstm.h5', save_weights_only=True)])\n"
   ]
  }
 ],
 "metadata": {
  "kernelspec": {
   "display_name": "Tensorflow 2.11 Env",
   "language": "python",
   "name": "tf_env"
  },
  "language_info": {
   "codemirror_mode": {
    "name": "ipython",
    "version": 3
   },
   "file_extension": ".py",
   "mimetype": "text/x-python",
   "name": "python",
   "nbconvert_exporter": "python",
   "pygments_lexer": "ipython3",
   "version": "3.8.10"
  },
  "orig_nbformat": 4
 },
 "nbformat": 4,
 "nbformat_minor": 2
}
